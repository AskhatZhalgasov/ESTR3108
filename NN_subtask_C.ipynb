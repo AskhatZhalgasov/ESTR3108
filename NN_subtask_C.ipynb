{
  "nbformat": 4,
  "nbformat_minor": 0,
  "metadata": {
    "colab": {
      "name": "NN_subtask_C.ipynb",
      "provenance": []
    },
    "kernelspec": {
      "name": "python3",
      "display_name": "Python 3"
    },
    "accelerator": "GPU"
  },
  "cells": [
    {
      "cell_type": "code",
      "metadata": {
        "id": "90kpdU1BbELr",
        "colab_type": "code",
        "colab": {
          "base_uri": "https://localhost:8080/",
          "height": 80
        },
        "outputId": "c085a6fa-a7f6-44e3-8102-9e1a229e0c50"
      },
      "source": [
        "import numpy as np\n",
        "import csv\n",
        "from tqdm import tqdm\n",
        "from sklearn.utils import shuffle\n",
        "import nltk\n",
        "import re\n",
        "import keras\n",
        "from keras.models import Sequential\n",
        "from keras.layers import Input, Dense, Embedding, Convolution1D, MaxPooling1D, MaxPooling2D, Convolution2D, LSTM, Reshape, Dropout, Flatten\n",
        "from keras import regularizers \n",
        "from sklearn.feature_extraction.text import TfidfVectorizer,CountVectorizer\n",
        "from sklearn.model_selection import train_test_split\n",
        "from sklearn.preprocessing import OneHotEncoder\n",
        "from keras.optimizers import Adam\n",
        "from tensorflow.python.keras.callbacks import EarlyStopping\n",
        "import seaborn as sn\n",
        "import pandas as pd\n",
        "import matplotlib.pyplot as plt\n",
        "from sklearn.metrics import classification_report,f1_score\n",
        "from sklearn.utils import class_weight"
      ],
      "execution_count": 1,
      "outputs": [
        {
          "output_type": "stream",
          "text": [
            "Using TensorFlow backend.\n"
          ],
          "name": "stderr"
        },
        {
          "output_type": "display_data",
          "data": {
            "text/html": [
              "<p style=\"color: red;\">\n",
              "The default version of TensorFlow in Colab will soon switch to TensorFlow 2.x.<br>\n",
              "We recommend you <a href=\"https://www.tensorflow.org/guide/migrate\" target=\"_blank\">upgrade</a> now \n",
              "or ensure your notebook will continue to use TensorFlow 1.x via the <code>%tensorflow_version 1.x</code> magic:\n",
              "<a href=\"https://colab.research.google.com/notebooks/tensorflow_version.ipynb\" target=\"_blank\">more info</a>.</p>\n"
            ],
            "text/plain": [
              "<IPython.core.display.HTML object>"
            ]
          },
          "metadata": {
            "tags": []
          }
        }
      ]
    },
    {
      "cell_type": "code",
      "metadata": {
        "id": "YaASdu21bft4",
        "colab_type": "code",
        "outputId": "d9fee972-2899-4e0c-84c5-66aa0a8e6be5",
        "colab": {
          "base_uri": "https://localhost:8080/",
          "height": 122
        }
      },
      "source": [
        "from google.colab import drive\n",
        "drive.mount('/content/gdrive')"
      ],
      "execution_count": 2,
      "outputs": [
        {
          "output_type": "stream",
          "text": [
            "Go to this URL in a browser: https://accounts.google.com/o/oauth2/auth?client_id=947318989803-6bn6qk8qdgf4n4g3pfee6491hc0brc4i.apps.googleusercontent.com&redirect_uri=urn%3aietf%3awg%3aoauth%3a2.0%3aoob&response_type=code&scope=email%20https%3a%2f%2fwww.googleapis.com%2fauth%2fdocs.test%20https%3a%2f%2fwww.googleapis.com%2fauth%2fdrive%20https%3a%2f%2fwww.googleapis.com%2fauth%2fdrive.photos.readonly%20https%3a%2f%2fwww.googleapis.com%2fauth%2fpeopleapi.readonly\n",
            "\n",
            "Enter your authorization code:\n",
            "··········\n",
            "Mounted at /content/gdrive\n"
          ],
          "name": "stdout"
        }
      ]
    },
    {
      "cell_type": "code",
      "metadata": {
        "id": "oIAfHd9ibgsT",
        "colab_type": "code",
        "colab": {}
      },
      "source": [
        "#declare path\n",
        "path_to_project = '/content/gdrive/My Drive/ESTR project AI/OLIDv1.0/'\n",
        "path_to_data = path_to_project + 'olid-training-v1.0.tsv'"
      ],
      "execution_count": 0,
      "outputs": []
    },
    {
      "cell_type": "code",
      "metadata": {
        "id": "kACIXuImboNL",
        "colab_type": "code",
        "colab": {}
      },
      "source": [
        "#0 - Not offensive\n",
        "#1 - Offensive untargeted\n",
        "#2 - Offensive targeted indiviualds\n",
        "#3 - Offensive targeted groups \n",
        "#4 - Offensive targeted others\n",
        "def get_label(labels):\n",
        "  answer = 0\n",
        "  if labels[1] == 'UNT':\n",
        "    answer = 1\n",
        "  if labels[2] == 'IND':\n",
        "    answer = 2\n",
        "  if labels[2] == 'GRP':\n",
        "    answer = 3\n",
        "  if labels[2] == 'OTH':\n",
        "    answer = 4\n",
        "  return answer\n",
        "\n",
        "def convert(label, sub_task):\n",
        "  if sub_task == 'a':\n",
        "    return int(label > 0)\n",
        "  if sub_task == 'b':\n",
        "    return int(label > 1)\n",
        "  return label - 2\n",
        "\n",
        "def prepare_data(path,sub_task):\n",
        "  data=[]\n",
        "  labels=[]\n",
        "  with open(path,encoding='utf8') as file:\n",
        "    for i,line in enumerate(csv.reader(file,delimiter='\\t')):\n",
        "      if i == 0:\n",
        "        continue\n",
        "      x = get_label(line[-3:])\n",
        "      if x > 1:\n",
        "        data.append(line[1])\n",
        "        labels.append(convert(x,sub_task))\n",
        "  return data,labels  \n",
        "\n",
        "def get_test_label(label,sub_task):\n",
        "  answer = 0\n",
        "  if sub_task == 'a':\n",
        "    if label == 'OFF':\n",
        "      answer = 1\n",
        "  if sub_task == 'b':\n",
        "    if label == 'TIN':\n",
        "      answer = 1\n",
        "  if sub_task == 'c':\n",
        "    if label == 'GRP':\n",
        "      answer = 1\n",
        "    if label == 'OTH':\n",
        "      answer = 2\n",
        "  return answer\n",
        "def get_test_data(sub_task):\n",
        "  data=[]\n",
        "  labels=[]\n",
        "  path_labels = path_to_project + 'labels-level' + sub_task + '.csv'\n",
        "  path_data = path_to_project + 'testset-level' + sub_task + '.tsv'\n",
        "  with open(path_data,encoding='utf8') as file:\n",
        "    for i,line in enumerate(csv.reader(file,delimiter='\\t')):\n",
        "      if i == 0:\n",
        "        continue\n",
        "      data.append(line[1])\n",
        "  with open(path_labels,encoding='utf8') as file:\n",
        "    for line in csv.reader(file):\n",
        "      labels.append(get_test_label(line[1],sub_task))\n",
        "      #labels.append(line[1])\n",
        "  return data,labels"
      ],
      "execution_count": 0,
      "outputs": []
    },
    {
      "cell_type": "code",
      "metadata": {
        "id": "1tzu6qpFbvMq",
        "colab_type": "code",
        "outputId": "c9a55fac-56ef-4e07-82da-a715142022b0",
        "colab": {
          "base_uri": "https://localhost:8080/",
          "height": 170
        }
      },
      "source": [
        "#preprocessing dependencies\n",
        "nltk.download('punkt')\n",
        "nltk.download('stopwords')\n",
        "nltk.download('averaged_perceptron_tagger')\n",
        "nltk.download('wordnet')\n",
        "#preprocessing\n",
        "def tokenize(data):\n",
        "  answer = []\n",
        "  for text in data:\n",
        "    answer.append(nltk.word_tokenize(text.lower()))\n",
        "  return answer\n",
        "\n",
        "def stop_words(data):\n",
        "  answer = []\n",
        "  bad_words = set(nltk.corpus.stopwords.words('english'))\n",
        "  for text in data:\n",
        "    answer.append([x for x in text if not x in bad_words and not re.match(r\"[^a-zA-Z\\d\\s]+\", x) and x != 'user'])\n",
        "  return answer\n",
        "\n",
        "def get_tag(word):\n",
        "  tag = nltk.pos_tag([word])[0][1][0].upper()\n",
        "  tag_dict = {\"J\": nltk.corpus.wordnet.ADJ,\n",
        "                \"N\": nltk.corpus.wordnet.NOUN,\n",
        "                \"V\": nltk.corpus.wordnet.VERB,\n",
        "                \"R\": nltk.corpus.wordnet.ADV}\n",
        "  return tag_dict.get(tag, nltk.corpus.wordnet.NOUN)\n",
        "  \n",
        "def lemmatize(data):\n",
        "  answer = []      \n",
        "  lemmatizer = nltk.stem.WordNetLemmatizer()\n",
        "  for text in data:\n",
        "    answer.append([lemmatizer.lemmatize(x, pos=get_tag(x)) for x in text])\n",
        "  return answer\n",
        "  \n",
        "#Vectorization\n",
        "def count_vectorizer_len(data):\n",
        "  vectorizer = CountVectorizer()\n",
        "  converted_data = [' '.join(x) for x in data]\n",
        "  vectorizer.fit(converted_data)\n",
        "  return len(vectorizer.vocabulary_.keys())"
      ],
      "execution_count": 5,
      "outputs": [
        {
          "output_type": "stream",
          "text": [
            "[nltk_data] Downloading package punkt to /root/nltk_data...\n",
            "[nltk_data]   Unzipping tokenizers/punkt.zip.\n",
            "[nltk_data] Downloading package stopwords to /root/nltk_data...\n",
            "[nltk_data]   Unzipping corpora/stopwords.zip.\n",
            "[nltk_data] Downloading package averaged_perceptron_tagger to\n",
            "[nltk_data]     /root/nltk_data...\n",
            "[nltk_data]   Unzipping taggers/averaged_perceptron_tagger.zip.\n",
            "[nltk_data] Downloading package wordnet to /root/nltk_data...\n",
            "[nltk_data]   Unzipping corpora/wordnet.zip.\n"
          ],
          "name": "stdout"
        }
      ]
    },
    {
      "cell_type": "code",
      "metadata": {
        "id": "fn7TOdOPbwT4",
        "colab_type": "code",
        "colab": {}
      },
      "source": [
        "#preparing data to be compatibel with Neural networks\n",
        "def do_one_hot(data):\n",
        "  encoder = OneHotEncoder();\n",
        "  return encoder.fit_transform(np.array(data).reshape(-1,1)).toarray()\n",
        "def do_input_proc(data, len, longest_seq):\n",
        "  converted_data = [keras.preprocessing.text.one_hot(' '.join(x), len) for x in data]\n",
        "  return keras.preprocessing.sequence.pad_sequences(converted_data, maxlen=longest_seq, padding='post')\n",
        "def get_max_len(data):\n",
        "  answer = 0\n",
        "  for x in data:\n",
        "    answer = max(answer, len(x))\n",
        "  return answer"
      ],
      "execution_count": 0,
      "outputs": []
    },
    {
      "cell_type": "code",
      "metadata": {
        "id": "5hDgF9MXbxkA",
        "colab_type": "code",
        "colab": {}
      },
      "source": [
        "def plot_confusion(data, labels, model, classes=3):\n",
        "  predicted_labels = model.predict(data, batch_size=64)\n",
        "  mtx = np.zeros(shape=(classes,classes))\n",
        "  for i in range(0,len(predicted_labels)):\n",
        "    actual_label = np.argmax(labels[i])\n",
        "    predicted_label = np.argmax(predicted_labels[i])\n",
        "    mtx[actual_label,predicted_label] += 1\n",
        "  plt.imshow(mtx,cmap=plt.cm.ocean_r)\n",
        "  plt.title('Confusion matrix')\n",
        "  plt.colorbar()\n",
        "  marks = [x for x in ['INT', 'GRP', 'OTH']]\n",
        "  plt.xlabel('Predicted Label')\n",
        "  plt.xticks(np.arange(classes), marks)\n",
        "  plt.ylabel('True Label')\n",
        "  plt.yticks(np.arange(classes), marks)\n",
        "  plt.tight_layout()\n",
        "  for (i, j), z in np.ndenumerate(mtx):\n",
        "    plt.text(j, i, int(z), ha='center', va='center')\n",
        "  plt.show()\n",
        "def do_analysis(test_data, test_labels, model):\n",
        "  predicted_labels = model.predict(test_data, batch_size=64)\n",
        "  y_true = np.argmax(test_labels, axis = 1)\n",
        "  y_pred = np.argmax(predicted_labels, axis = 1)\n",
        "  print(classification_report(y_true, y_pred))\n",
        " # print(f1_score(y_true, y_pred))\n",
        "  plot_confusion(test_data, test_labels, model, 3)"
      ],
      "execution_count": 0,
      "outputs": []
    },
    {
      "cell_type": "code",
      "metadata": {
        "id": "19dI8YBXbyfy",
        "colab_type": "code",
        "outputId": "4f96c137-f85a-4b1f-bbde-e9587c099aa9",
        "colab": {
          "base_uri": "https://localhost:8080/",
          "height": 241
        }
      },
      "source": [
        "data,labels = prepare_data(path_to_data,'c')\n",
        "test_data,test_labels = get_test_data('c')\n",
        "data = lemmatize(stop_words(tokenize(data)))\n",
        "test_data = lemmatize(stop_words(tokenize(test_data)))\n",
        "vocab_length = count_vectorizer_len(data)\n",
        "longest_seq = max(get_max_len(data),get_max_len(test_data))\n",
        "#convert data to work with NN\n",
        "train_data, val_data, train_labels, val_labels = train_test_split(np.array(data),labels, test_size=0.35,stratify=labels)\n",
        "train_labels = do_one_hot(train_labels)\n",
        "val_labels = do_one_hot(val_labels)\n",
        "test_labels = do_one_hot(test_labels)\n",
        "train_data = do_input_proc(train_data, vocab_length, longest_seq)\n",
        "val_data = do_input_proc(val_data, vocab_length, longest_seq)\n",
        "test_data = do_input_proc(test_data, vocab_length, longest_seq)"
      ],
      "execution_count": 8,
      "outputs": [
        {
          "output_type": "stream",
          "text": [
            "/usr/local/lib/python3.6/dist-packages/sklearn/preprocessing/_encoders.py:415: FutureWarning: The handling of integer data will change in version 0.22. Currently, the categories are determined based on the range [0, max(values)], while in the future they will be determined based on the unique values.\n",
            "If you want the future behaviour and silence this warning, you can specify \"categories='auto'\".\n",
            "In case you used a LabelEncoder before this OneHotEncoder to convert the categories to integers, then you can now use the OneHotEncoder directly.\n",
            "  warnings.warn(msg, FutureWarning)\n",
            "/usr/local/lib/python3.6/dist-packages/sklearn/preprocessing/_encoders.py:415: FutureWarning: The handling of integer data will change in version 0.22. Currently, the categories are determined based on the range [0, max(values)], while in the future they will be determined based on the unique values.\n",
            "If you want the future behaviour and silence this warning, you can specify \"categories='auto'\".\n",
            "In case you used a LabelEncoder before this OneHotEncoder to convert the categories to integers, then you can now use the OneHotEncoder directly.\n",
            "  warnings.warn(msg, FutureWarning)\n",
            "/usr/local/lib/python3.6/dist-packages/sklearn/preprocessing/_encoders.py:415: FutureWarning: The handling of integer data will change in version 0.22. Currently, the categories are determined based on the range [0, max(values)], while in the future they will be determined based on the unique values.\n",
            "If you want the future behaviour and silence this warning, you can specify \"categories='auto'\".\n",
            "In case you used a LabelEncoder before this OneHotEncoder to convert the categories to integers, then you can now use the OneHotEncoder directly.\n",
            "  warnings.warn(msg, FutureWarning)\n"
          ],
          "name": "stderr"
        }
      ]
    },
    {
      "cell_type": "code",
      "metadata": {
        "id": "uO1Y8DfWbzYS",
        "colab_type": "code",
        "outputId": "83721f40-dbaa-40d8-b14a-6c4907d2fe60",
        "colab": {
          "base_uri": "https://localhost:8080/",
          "height": 513
        }
      },
      "source": [
        "# lstm model\n",
        "lstm_complex = Sequential()\n",
        "lstm_complex.add(Embedding(vocab_length, 30, input_length=longest_seq))\n",
        "lstm_complex.add(LSTM(100))\n",
        "lstm_complex.add(Dense(longest_seq, activation='relu', W_regularizer=regularizers.l2(0.90)))\n",
        "lstm_complex.add(Dense(train_labels.shape[1], activation='softmax'))\n",
        "lstm_complex.compile(loss='categorical_crossentropy', optimizer='adam',metrics=['accuracy'])\n",
        "lstm_complex.summary()\n",
        "early_stopping = EarlyStopping(monitor='val_acc', patience=5)"
      ],
      "execution_count": 10,
      "outputs": [
        {
          "output_type": "stream",
          "text": [
            "WARNING:tensorflow:From /usr/local/lib/python3.6/dist-packages/keras/backend/tensorflow_backend.py:66: The name tf.get_default_graph is deprecated. Please use tf.compat.v1.get_default_graph instead.\n",
            "\n",
            "WARNING:tensorflow:From /usr/local/lib/python3.6/dist-packages/keras/backend/tensorflow_backend.py:541: The name tf.placeholder is deprecated. Please use tf.compat.v1.placeholder instead.\n",
            "\n",
            "WARNING:tensorflow:From /usr/local/lib/python3.6/dist-packages/keras/backend/tensorflow_backend.py:4432: The name tf.random_uniform is deprecated. Please use tf.random.uniform instead.\n",
            "\n",
            "WARNING:tensorflow:From /usr/local/lib/python3.6/dist-packages/keras/optimizers.py:793: The name tf.train.Optimizer is deprecated. Please use tf.compat.v1.train.Optimizer instead.\n",
            "\n",
            "WARNING:tensorflow:From /usr/local/lib/python3.6/dist-packages/keras/backend/tensorflow_backend.py:3576: The name tf.log is deprecated. Please use tf.math.log instead.\n",
            "\n",
            "Model: \"sequential_1\"\n",
            "_________________________________________________________________\n",
            "Layer (type)                 Output Shape              Param #   \n",
            "=================================================================\n",
            "embedding_1 (Embedding)      (None, 41, 30)            236820    \n",
            "_________________________________________________________________\n",
            "lstm_1 (LSTM)                (None, 100)               52400     \n",
            "_________________________________________________________________\n",
            "dense_1 (Dense)              (None, 41)                4141      \n",
            "_________________________________________________________________\n",
            "dense_2 (Dense)              (None, 3)                 126       \n",
            "=================================================================\n",
            "Total params: 293,487\n",
            "Trainable params: 293,487\n",
            "Non-trainable params: 0\n",
            "_________________________________________________________________\n"
          ],
          "name": "stdout"
        },
        {
          "output_type": "stream",
          "text": [
            "/usr/local/lib/python3.6/dist-packages/ipykernel_launcher.py:4: UserWarning: Update your `Dense` call to the Keras 2 API: `Dense(41, activation=\"relu\", kernel_regularizer=<keras.reg...)`\n",
            "  after removing the cwd from sys.path.\n"
          ],
          "name": "stderr"
        }
      ]
    },
    {
      "cell_type": "code",
      "metadata": {
        "id": "SINNv5k6b-YD",
        "colab_type": "code",
        "outputId": "889de127-466b-4cd5-e8b6-c2e619369e5d",
        "colab": {
          "base_uri": "https://localhost:8080/",
          "height": 564
        }
      },
      "source": [
        "lstm_complex.fit(train_data, train_labels, batch_size=64,epochs=5,verbose=1,validation_data=(val_data,val_labels),callbacks=[early_stopping])"
      ],
      "execution_count": 12,
      "outputs": [
        {
          "output_type": "stream",
          "text": [
            "WARNING:tensorflow:From /usr/local/lib/python3.6/dist-packages/tensorflow_core/python/ops/math_grad.py:1424: where (from tensorflow.python.ops.array_ops) is deprecated and will be removed in a future version.\n",
            "Instructions for updating:\n",
            "Use tf.where in 2.0, which has the same broadcast rule as np.where\n",
            "WARNING:tensorflow:From /usr/local/lib/python3.6/dist-packages/keras/backend/tensorflow_backend.py:1033: The name tf.assign_add is deprecated. Please use tf.compat.v1.assign_add instead.\n",
            "\n",
            "WARNING:tensorflow:From /usr/local/lib/python3.6/dist-packages/keras/backend/tensorflow_backend.py:1020: The name tf.assign is deprecated. Please use tf.compat.v1.assign instead.\n",
            "\n",
            "WARNING:tensorflow:From /usr/local/lib/python3.6/dist-packages/keras/backend/tensorflow_backend.py:3005: The name tf.Session is deprecated. Please use tf.compat.v1.Session instead.\n",
            "\n",
            "Train on 2519 samples, validate on 1357 samples\n",
            "Epoch 1/5\n",
            "WARNING:tensorflow:From /usr/local/lib/python3.6/dist-packages/keras/backend/tensorflow_backend.py:190: The name tf.get_default_session is deprecated. Please use tf.compat.v1.get_default_session instead.\n",
            "\n",
            "WARNING:tensorflow:From /usr/local/lib/python3.6/dist-packages/keras/backend/tensorflow_backend.py:197: The name tf.ConfigProto is deprecated. Please use tf.compat.v1.ConfigProto instead.\n",
            "\n",
            "WARNING:tensorflow:From /usr/local/lib/python3.6/dist-packages/keras/backend/tensorflow_backend.py:207: The name tf.global_variables is deprecated. Please use tf.compat.v1.global_variables instead.\n",
            "\n",
            "WARNING:tensorflow:From /usr/local/lib/python3.6/dist-packages/keras/backend/tensorflow_backend.py:216: The name tf.is_variable_initialized is deprecated. Please use tf.compat.v1.is_variable_initialized instead.\n",
            "\n",
            "WARNING:tensorflow:From /usr/local/lib/python3.6/dist-packages/keras/backend/tensorflow_backend.py:223: The name tf.variables_initializer is deprecated. Please use tf.compat.v1.variables_initializer instead.\n",
            "\n",
            "2519/2519 [==============================] - 8s 3ms/step - loss: 39.8689 - acc: 0.6209 - val_loss: 28.4361 - val_acc: 0.6212\n",
            "Epoch 2/5\n",
            "2519/2519 [==============================] - 3s 1ms/step - loss: 21.2353 - acc: 0.6209 - val_loss: 14.8935 - val_acc: 0.6212\n",
            "Epoch 3/5\n",
            "2519/2519 [==============================] - 3s 1ms/step - loss: 10.9664 - acc: 0.6673 - val_loss: 7.7323 - val_acc: 0.5748\n",
            "Epoch 4/5\n",
            "2519/2519 [==============================] - 3s 1ms/step - loss: 5.5464 - acc: 0.7523 - val_loss: 4.0311 - val_acc: 0.6618\n",
            "Epoch 5/5\n",
            "2519/2519 [==============================] - 3s 1ms/step - loss: 2.8232 - acc: 0.7860 - val_loss: 2.3082 - val_acc: 0.6227\n"
          ],
          "name": "stdout"
        },
        {
          "output_type": "execute_result",
          "data": {
            "text/plain": [
              "<keras.callbacks.History at 0x7f081fe307b8>"
            ]
          },
          "metadata": {
            "tags": []
          },
          "execution_count": 12
        }
      ]
    },
    {
      "cell_type": "code",
      "metadata": {
        "id": "Y3hZio_EdRTm",
        "colab_type": "code",
        "outputId": "4752dfe9-e6ce-4f25-ba60-863e30744cb8",
        "colab": {
          "base_uri": "https://localhost:8080/",
          "height": 521
        }
      },
      "source": [
        "do_analysis(test_data, test_labels, lstm_complex)"
      ],
      "execution_count": 15,
      "outputs": [
        {
          "output_type": "stream",
          "text": [
            "/usr/local/lib/python3.6/dist-packages/sklearn/metrics/classification.py:1437: UndefinedMetricWarning: Precision and F-score are ill-defined and being set to 0.0 in labels with no predicted samples.\n",
            "  'precision', 'predicted', average, warn_for)\n"
          ],
          "name": "stderr"
        },
        {
          "output_type": "stream",
          "text": [
            "              precision    recall  f1-score   support\n",
            "\n",
            "           0       0.65      0.80      0.72       100\n",
            "           1       0.61      0.71      0.65        78\n",
            "           2       0.00      0.00      0.00        35\n",
            "\n",
            "    accuracy                           0.63       213\n",
            "   macro avg       0.42      0.50      0.46       213\n",
            "weighted avg       0.53      0.63      0.58       213\n",
            "\n"
          ],
          "name": "stdout"
        },
        {
          "output_type": "display_data",
          "data": {
            "image/png": "[encoded data removed]",
            "text/plain": [
              "<Figure size 432x288 with 2 Axes>"
            ]
          },
          "metadata": {
            "tags": []
          }
        }
      ]
    },
    {
      "cell_type": "code",
      "metadata": {
        "id": "uA1dlUpMdSqY",
        "colab_type": "code",
        "outputId": "2b6b318f-f479-4522-b5c8-4d2350f78785",
        "colab": {
          "base_uri": "https://localhost:8080/",
          "height": 394
        }
      },
      "source": [
        "# lstm model\n",
        "lstm1 = Sequential()\n",
        "lstm1.add(Embedding(vocab_length, 30, input_length=longest_seq))\n",
        "lstm1.add(Dropout(0.5))\n",
        "lstm1.add(LSTM(100))\n",
        "#lstm1.add(Dense(longest_seq, activation='relu', W_regularizer=regularizers.l2(0.90))) , W_regularizer=regularizers.l2(0.1))\n",
        "lstm1.add(Dense(train_labels.shape[1], activation='sigmoid'))\n",
        "lstm1.compile(loss='categorical_crossentropy', optimizer='adam',metrics=['accuracy'])\n",
        "lstm1.summary()\n",
        "early_stopping = EarlyStopping(monitor='val_acc', patience=2)"
      ],
      "execution_count": 18,
      "outputs": [
        {
          "output_type": "stream",
          "text": [
            "WARNING:tensorflow:From /usr/local/lib/python3.6/dist-packages/keras/backend/tensorflow_backend.py:148: The name tf.placeholder_with_default is deprecated. Please use tf.compat.v1.placeholder_with_default instead.\n",
            "\n",
            "WARNING:tensorflow:From /usr/local/lib/python3.6/dist-packages/keras/backend/tensorflow_backend.py:3733: calling dropout (from tensorflow.python.ops.nn_ops) with keep_prob is deprecated and will be removed in a future version.\n",
            "Instructions for updating:\n",
            "Please use `rate` instead of `keep_prob`. Rate should be set to `rate = 1 - keep_prob`.\n",
            "Model: \"sequential_2\"\n",
            "_________________________________________________________________\n",
            "Layer (type)                 Output Shape              Param #   \n",
            "=================================================================\n",
            "embedding_2 (Embedding)      (None, 41, 30)            236820    \n",
            "_________________________________________________________________\n",
            "dropout_1 (Dropout)          (None, 41, 30)            0         \n",
            "_________________________________________________________________\n",
            "lstm_2 (LSTM)                (None, 100)               52400     \n",
            "_________________________________________________________________\n",
            "dense_3 (Dense)              (None, 3)                 303       \n",
            "=================================================================\n",
            "Total params: 289,523\n",
            "Trainable params: 289,523\n",
            "Non-trainable params: 0\n",
            "_________________________________________________________________\n"
          ],
          "name": "stdout"
        }
      ]
    },
    {
      "cell_type": "code",
      "metadata": {
        "id": "K-9gU0icfBSR",
        "colab_type": "code",
        "colab": {}
      },
      "source": [
        "class_weights = class_weights = class_weight.compute_class_weight('balanced', np.unique(labels), labels)"
      ],
      "execution_count": 0,
      "outputs": []
    },
    {
      "cell_type": "code",
      "metadata": {
        "id": "8EjTG589fIy1",
        "colab_type": "code",
        "outputId": "45acab4b-d9e2-4106-a4f5-48f7d53c1488",
        "colab": {
          "base_uri": "https://localhost:8080/",
          "height": 153
        }
      },
      "source": [
        "lstm1.fit(train_data, train_labels, batch_size=30,epochs=10,verbose=1,validation_data=(val_data,val_labels),class_weight=class_weights,callbacks=[early_stopping])"
      ],
      "execution_count": 20,
      "outputs": [
        {
          "output_type": "stream",
          "text": [
            "Train on 2519 samples, validate on 1357 samples\n",
            "Epoch 1/10\n",
            "2519/2519 [==============================] - 7s 3ms/step - loss: 0.9198 - acc: 0.6121 - val_loss: 0.8866 - val_acc: 0.6212\n",
            "Epoch 2/10\n",
            "2519/2519 [==============================] - 6s 2ms/step - loss: 0.8881 - acc: 0.6209 - val_loss: 0.8855 - val_acc: 0.6212\n",
            "Epoch 3/10\n",
            "2519/2519 [==============================] - 6s 2ms/step - loss: 0.8863 - acc: 0.6209 - val_loss: 0.8889 - val_acc: 0.6212\n"
          ],
          "name": "stdout"
        },
        {
          "output_type": "execute_result",
          "data": {
            "text/plain": [
              "<keras.callbacks.History at 0x7f07a05e3198>"
            ]
          },
          "metadata": {
            "tags": []
          },
          "execution_count": 20
        }
      ]
    },
    {
      "cell_type": "code",
      "metadata": {
        "id": "TqVnKqt5fXha",
        "colab_type": "code",
        "outputId": "7de6ad4e-9e13-4f4b-eae0-d9ec03285fc2",
        "colab": {
          "base_uri": "https://localhost:8080/",
          "height": 521
        }
      },
      "source": [
        "do_analysis(test_data, test_labels, lstm1)"
      ],
      "execution_count": 21,
      "outputs": [
        {
          "output_type": "stream",
          "text": [
            "/usr/local/lib/python3.6/dist-packages/sklearn/metrics/classification.py:1437: UndefinedMetricWarning: Precision and F-score are ill-defined and being set to 0.0 in labels with no predicted samples.\n",
            "  'precision', 'predicted', average, warn_for)\n"
          ],
          "name": "stderr"
        },
        {
          "output_type": "stream",
          "text": [
            "              precision    recall  f1-score   support\n",
            "\n",
            "           0       0.47      1.00      0.64       100\n",
            "           1       0.00      0.00      0.00        78\n",
            "           2       0.00      0.00      0.00        35\n",
            "\n",
            "    accuracy                           0.47       213\n",
            "   macro avg       0.16      0.33      0.21       213\n",
            "weighted avg       0.22      0.47      0.30       213\n",
            "\n"
          ],
          "name": "stdout"
        },
        {
          "output_type": "display_data",
          "data": {
            "image/png": "[encoded data removed]",
            "text/plain": [
              "<Figure size 432x288 with 2 Axes>"
            ]
          },
          "metadata": {
            "tags": []
          }
        }
      ]
    },
    {
      "cell_type": "code",
      "metadata": {
        "id": "kteT_I8v-z4d",
        "colab_type": "code",
        "colab": {
          "base_uri": "https://localhost:8080/",
          "height": 493
        },
        "outputId": "9d267136-769b-439c-960a-76de7b721e7c"
      },
      "source": [
        "cnn = Sequential()\n",
        "cnn.add(Embedding(vocab_length, 30, input_length=longest_seq))\n",
        "cnn.add(Reshape((30,longest_seq,1)))\n",
        "cnn.add(Convolution2D(32,(1,5),activation=\"relu\"))\n",
        "cnn.add(Dropout(0.9))\n",
        "cnn.add(Convolution2D(16,(2,3),activation=\"relu\"))\n",
        "cnn.add(Dropout(0.8))\n",
        "cnn.add(Convolution2D(16,(2,2),activation=\"relu\"))\n",
        "cnn.add(Dropout(0.7))\n",
        "cnn.add(Flatten())\n",
        "cnn.add(Dense(train_labels.shape[1],activation='sigmoid'))\n",
        "cnn.compile(loss='categorical_crossentropy', optimizer='adam',metrics=['accuracy'])\n",
        "cnn.summary()"
      ],
      "execution_count": 31,
      "outputs": [
        {
          "output_type": "stream",
          "text": [
            "Model: \"sequential_6\"\n",
            "_________________________________________________________________\n",
            "Layer (type)                 Output Shape              Param #   \n",
            "=================================================================\n",
            "embedding_6 (Embedding)      (None, 41, 30)            236820    \n",
            "_________________________________________________________________\n",
            "reshape_4 (Reshape)          (None, 30, 41, 1)         0         \n",
            "_________________________________________________________________\n",
            "conv2d_10 (Conv2D)           (None, 30, 37, 32)        192       \n",
            "_________________________________________________________________\n",
            "dropout_11 (Dropout)         (None, 30, 37, 32)        0         \n",
            "_________________________________________________________________\n",
            "conv2d_11 (Conv2D)           (None, 29, 35, 16)        3088      \n",
            "_________________________________________________________________\n",
            "dropout_12 (Dropout)         (None, 29, 35, 16)        0         \n",
            "_________________________________________________________________\n",
            "conv2d_12 (Conv2D)           (None, 28, 34, 16)        1040      \n",
            "_________________________________________________________________\n",
            "dropout_13 (Dropout)         (None, 28, 34, 16)        0         \n",
            "_________________________________________________________________\n",
            "flatten_4 (Flatten)          (None, 15232)             0         \n",
            "_________________________________________________________________\n",
            "dense_7 (Dense)              (None, 3)                 45699     \n",
            "=================================================================\n",
            "Total params: 286,839\n",
            "Trainable params: 286,839\n",
            "Non-trainable params: 0\n",
            "_________________________________________________________________\n"
          ],
          "name": "stdout"
        }
      ]
    },
    {
      "cell_type": "code",
      "metadata": {
        "id": "rtpOczoD_BB4",
        "colab_type": "code",
        "colab": {
          "base_uri": "https://localhost:8080/",
          "height": 425
        },
        "outputId": "cd2ac16d-e9c9-4f72-c8b7-04a7109ae35e"
      },
      "source": [
        "early_stopping = EarlyStopping(monitor='val_acc', patience=5)\n",
        "cnn.fit(train_data, train_labels, batch_size=64,epochs=15,verbose=1,validation_data=(test_data,test_labels),callbacks=[early_stopping],class_weight=class_weights)"
      ],
      "execution_count": 32,
      "outputs": [
        {
          "output_type": "stream",
          "text": [
            "Train on 2519 samples, validate on 213 samples\n",
            "Epoch 1/15\n",
            "2519/2519 [==============================] - 1s 500us/step - loss: 0.9105 - acc: 0.6133 - val_loss: 1.0518 - val_acc: 0.4695\n",
            "Epoch 2/15\n",
            "2519/2519 [==============================] - 0s 104us/step - loss: 0.8841 - acc: 0.6209 - val_loss: 1.0411 - val_acc: 0.4695\n",
            "Epoch 3/15\n",
            "2519/2519 [==============================] - 0s 106us/step - loss: 0.8780 - acc: 0.6209 - val_loss: 1.0547 - val_acc: 0.4695\n",
            "Epoch 4/15\n",
            "2519/2519 [==============================] - 0s 96us/step - loss: 0.8691 - acc: 0.6209 - val_loss: 1.0582 - val_acc: 0.4695\n",
            "Epoch 5/15\n",
            "2519/2519 [==============================] - 0s 100us/step - loss: 0.8427 - acc: 0.6237 - val_loss: 1.0643 - val_acc: 0.5305\n",
            "Epoch 6/15\n",
            "2519/2519 [==============================] - 0s 97us/step - loss: 0.7451 - acc: 0.6908 - val_loss: 1.0357 - val_acc: 0.5775\n",
            "Epoch 7/15\n",
            "2519/2519 [==============================] - 0s 104us/step - loss: 0.6146 - acc: 0.7511 - val_loss: 0.9888 - val_acc: 0.5540\n",
            "Epoch 8/15\n",
            "2519/2519 [==============================] - 0s 99us/step - loss: 0.5332 - acc: 0.7908 - val_loss: 1.0237 - val_acc: 0.5775\n",
            "Epoch 9/15\n",
            "2519/2519 [==============================] - 0s 102us/step - loss: 0.4907 - acc: 0.8067 - val_loss: 1.0942 - val_acc: 0.5540\n",
            "Epoch 10/15\n",
            "2519/2519 [==============================] - 0s 99us/step - loss: 0.4206 - acc: 0.8265 - val_loss: 1.2275 - val_acc: 0.5493\n",
            "Epoch 11/15\n",
            "2519/2519 [==============================] - 0s 101us/step - loss: 0.4101 - acc: 0.8297 - val_loss: 1.3225 - val_acc: 0.5305\n"
          ],
          "name": "stdout"
        },
        {
          "output_type": "execute_result",
          "data": {
            "text/plain": [
              "<keras.callbacks.History at 0x7f07a0222e80>"
            ]
          },
          "metadata": {
            "tags": []
          },
          "execution_count": 32
        }
      ]
    },
    {
      "cell_type": "code",
      "metadata": {
        "id": "DGhyz6ou_Cnn",
        "colab_type": "code",
        "colab": {
          "base_uri": "https://localhost:8080/",
          "height": 467
        },
        "outputId": "e88caf4c-878d-451c-a9b4-d2eb36794108"
      },
      "source": [
        "do_analysis(test_data, test_labels, cnn)"
      ],
      "execution_count": 33,
      "outputs": [
        {
          "output_type": "stream",
          "text": [
            "              precision    recall  f1-score   support\n",
            "\n",
            "           0       0.54      0.75      0.63       100\n",
            "           1       0.54      0.49      0.51        78\n",
            "           2       0.00      0.00      0.00        35\n",
            "\n",
            "    accuracy                           0.53       213\n",
            "   macro avg       0.36      0.41      0.38       213\n",
            "weighted avg       0.45      0.53      0.48       213\n",
            "\n"
          ],
          "name": "stdout"
        },
        {
          "output_type": "display_data",
          "data": {
            "image/png": "[encoded data removed]",
            "text/plain": [
              "<Figure size 432x288 with 2 Axes>"
            ]
          },
          "metadata": {
            "tags": []
          }
        }
      ]
    },
    {
      "cell_type": "code",
      "metadata": {
        "id": "rsmZZuhd_G04",
        "colab_type": "code",
        "colab": {}
      },
      "source": [
        ""
      ],
      "execution_count": 0,
      "outputs": []
    }
  ]
}