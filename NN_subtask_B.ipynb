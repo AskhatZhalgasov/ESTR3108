{
  "nbformat": 4,
  "nbformat_minor": 0,
  "metadata": {
    "colab": {
      "name": "NN_subtask_B.ipynb",
      "provenance": []
    },
    "kernelspec": {
      "name": "python3",
      "display_name": "Python 3"
    },
    "accelerator": "GPU"
  },
  "cells": [
    {
      "cell_type": "code",
      "metadata": {
        "id": "oSmPv-mbdDmS",
        "colab_type": "code",
        "colab": {}
      },
      "source": [
        "import numpy as np\n",
        "import csv\n",
        "from tqdm import tqdm\n",
        "from sklearn.utils import shuffle\n",
        "import nltk\n",
        "import re\n",
        "import keras\n",
        "from keras.models import Sequential\n",
        "from keras.layers import Input, Dense, Embedding, Convolution1D, MaxPooling1D, MaxPooling2D, Convolution2D, LSTM, Reshape, Dropout, Flatten\n",
        "from keras import regularizers \n",
        "from sklearn.feature_extraction.text import TfidfVectorizer,CountVectorizer\n",
        "from sklearn.model_selection import train_test_split\n",
        "from sklearn.preprocessing import OneHotEncoder\n",
        "from keras.optimizers import Adam\n",
        "from tensorflow.python.keras.callbacks import EarlyStopping\n",
        "import seaborn as sn\n",
        "import pandas as pd\n",
        "import matplotlib.pyplot as plt\n",
        "from sklearn.metrics import classification_report\n",
        "from sklearn.utils import   "
      ],
      "execution_count": 0,
      "outputs": []
    },
    {
      "cell_type": "code",
      "metadata": {
        "id": "JWG_siBmdI6h",
        "colab_type": "code",
        "colab": {
          "base_uri": "https://localhost:8080/",
          "height": 122
        },
        "outputId": "a740875b-eefc-431c-ed8f-e68b89534629"
      },
      "source": [
        "from google.colab import drive\n",
        "drive.mount('/content/gdrive')"
      ],
      "execution_count": 2,
      "outputs": [
        {
          "output_type": "stream",
          "text": [
            "Go to this URL in a browser: https://accounts.google.com/o/oauth2/auth?client_id=947318989803-6bn6qk8qdgf4n4g3pfee6491hc0brc4i.apps.googleusercontent.com&redirect_uri=urn%3aietf%3awg%3aoauth%3a2.0%3aoob&response_type=code&scope=email%20https%3a%2f%2fwww.googleapis.com%2fauth%2fdocs.test%20https%3a%2f%2fwww.googleapis.com%2fauth%2fdrive%20https%3a%2f%2fwww.googleapis.com%2fauth%2fdrive.photos.readonly%20https%3a%2f%2fwww.googleapis.com%2fauth%2fpeopleapi.readonly\n",
            "\n",
            "Enter your authorization code:\n",
            "··········\n",
            "Mounted at /content/gdrive\n"
          ],
          "name": "stdout"
        }
      ]
    },
    {
      "cell_type": "code",
      "metadata": {
        "id": "cjhTp_O3dLL5",
        "colab_type": "code",
        "colab": {}
      },
      "source": [
        "#declare path\n",
        "path_to_project = '/content/gdrive/My Drive/ESTR project AI/OLIDv1.0/'\n",
        "path_to_data = path_to_project + 'olid-training-v1.0.tsv'"
      ],
      "execution_count": 0,
      "outputs": []
    },
    {
      "cell_type": "code",
      "metadata": {
        "id": "9txzna_xdMb7",
        "colab_type": "code",
        "colab": {}
      },
      "source": [
        "#0 - Not offensive\n",
        "#1 - Offensive untargeted\n",
        "#2 - Offensive targeted indiviualds\n",
        "#3 - Offensive targeted groups \n",
        "#4 - Offensive targeted others\n",
        "def get_label(labels):\n",
        "  answer = 0\n",
        "  if labels[1] == 'UNT':\n",
        "    answer = 1\n",
        "  if labels[2] == 'IND':\n",
        "    answer = 2\n",
        "  if labels[2] == 'GRP':\n",
        "    answer = 3\n",
        "  if labels[2] == 'OTH':\n",
        "    answer = 4\n",
        "  return answer\n",
        "\n",
        "def convert(label, sub_task):\n",
        "  if sub_task == 'a':\n",
        "    return int(label > 0)\n",
        "  if sub_task == 'b':\n",
        "    return int(label > 1)\n",
        "  return label - 2\n",
        "\n",
        "def prepare_data(path,sub_task):\n",
        "  data=[]\n",
        "  labels=[]\n",
        "  with open(path,encoding='utf8') as file:\n",
        "    for i,line in enumerate(csv.reader(file,delimiter='\\t')):\n",
        "      if i == 0:\n",
        "        continue\n",
        "      x = get_label(line[-3:])\n",
        "      if x > 0:\n",
        "        data.append(line[1])\n",
        "        labels.append(convert(x,sub_task))\n",
        "  return data,labels  \n",
        "\n",
        "def get_test_label(label,sub_task):\n",
        "  answer = 0\n",
        "  if sub_task == 'a':\n",
        "    if label == 'OFF':\n",
        "      answer = 1\n",
        "  if sub_task == 'b':\n",
        "    if label == 'TIN':\n",
        "      answer = 1\n",
        "  if sub_task == 'c':\n",
        "    if label == 'GRP':\n",
        "      answer = 1\n",
        "    if label == 'OTH':\n",
        "      answer = 2\n",
        "  return answer\n",
        "def get_test_data(sub_task):\n",
        "  data=[]\n",
        "  labels=[]\n",
        "  path_labels = path_to_project + 'labels-level' + sub_task + '.csv'\n",
        "  path_data = path_to_project + 'testset-level' + sub_task + '.tsv'\n",
        "  with open(path_data,encoding='utf8') as file:\n",
        "    for i,line in enumerate(csv.reader(file,delimiter='\\t')):\n",
        "      if i == 0:\n",
        "        continue\n",
        "      data.append(line[1])\n",
        "  with open(path_labels,encoding='utf8') as file:\n",
        "    for line in csv.reader(file):\n",
        "      labels.append(get_test_label(line[1],sub_task))\n",
        "      #labels.append(line[1])\n",
        "  return data,labels"
      ],
      "execution_count": 0,
      "outputs": []
    },
    {
      "cell_type": "code",
      "metadata": {
        "id": "D5cr2W9FdOVE",
        "colab_type": "code",
        "colab": {
          "base_uri": "https://localhost:8080/",
          "height": 170
        },
        "outputId": "74c60160-7e9c-43b2-da49-740bc91437b6"
      },
      "source": [
        "#preprocessing dependencies\n",
        "nltk.download('punkt')\n",
        "nltk.download('stopwords')\n",
        "nltk.download('averaged_perceptron_tagger')\n",
        "nltk.download('wordnet')\n",
        "#preprocessing\n",
        "def tokenize(data):\n",
        "  answer = []\n",
        "  for text in data:\n",
        "    answer.append(nltk.word_tokenize(text.lower()))\n",
        "  return answer\n",
        "\n",
        "def stop_words(data):\n",
        "  answer = []\n",
        "  bad_words = set(nltk.corpus.stopwords.words('english'))\n",
        "  for text in data:\n",
        "    answer.append([x for x in text if not x in bad_words and not re.match(r\"[^a-zA-Z\\d\\s]+\", x) and x != 'user'])\n",
        "  return answer\n",
        "\n",
        "def get_tag(word):\n",
        "  tag = nltk.pos_tag([word])[0][1][0].upper()\n",
        "  tag_dict = {\"J\": nltk.corpus.wordnet.ADJ,\n",
        "                \"N\": nltk.corpus.wordnet.NOUN,\n",
        "                \"V\": nltk.corpus.wordnet.VERB,\n",
        "                \"R\": nltk.corpus.wordnet.ADV}\n",
        "  return tag_dict.get(tag, nltk.corpus.wordnet.NOUN)\n",
        "  \n",
        "def lemmatize(data):\n",
        "  answer = []      \n",
        "  lemmatizer = nltk.stem.WordNetLemmatizer()\n",
        "  for text in data:\n",
        "    answer.append([lemmatizer.lemmatize(x, pos=get_tag(x)) for x in text])\n",
        "  return answer\n",
        "  \n",
        "#Vectorization\n",
        "def count_vectorizer_len(data):\n",
        "  vectorizer = CountVectorizer()\n",
        "  converted_data = [' '.join(x) for x in data]\n",
        "  vectorizer.fit(converted_data)\n",
        "  return len(vectorizer.vocabulary_.keys())"
      ],
      "execution_count": 5,
      "outputs": [
        {
          "output_type": "stream",
          "text": [
            "[nltk_data] Downloading package punkt to /root/nltk_data...\n",
            "[nltk_data]   Unzipping tokenizers/punkt.zip.\n",
            "[nltk_data] Downloading package stopwords to /root/nltk_data...\n",
            "[nltk_data]   Unzipping corpora/stopwords.zip.\n",
            "[nltk_data] Downloading package averaged_perceptron_tagger to\n",
            "[nltk_data]     /root/nltk_data...\n",
            "[nltk_data]   Unzipping taggers/averaged_perceptron_tagger.zip.\n",
            "[nltk_data] Downloading package wordnet to /root/nltk_data...\n",
            "[nltk_data]   Unzipping corpora/wordnet.zip.\n"
          ],
          "name": "stdout"
        }
      ]
    },
    {
      "cell_type": "code",
      "metadata": {
        "id": "ShoC4QaTA82J",
        "colab_type": "code",
        "colab": {}
      },
      "source": [
        "#preparing data to be compatibel with Neural networks\n",
        "def do_one_hot(data):\n",
        "  encoder = OneHotEncoder();\n",
        "  return encoder.fit_transform(np.array(data).reshape(-1,1)).toarray()\n",
        "def do_input_proc(data, len, longest_seq):\n",
        "  converted_data = [keras.preprocessing.text.one_hot(' '.join(x), len) for x in data]\n",
        "  return keras.preprocessing.sequence.pad_sequences(converted_data, maxlen=longest_seq, padding='post')\n",
        "def get_max_len(data):\n",
        "  answer = 0\n",
        "  for x in data:\n",
        "    answer = max(answer, len(x))\n",
        "  return answer"
      ],
      "execution_count": 0,
      "outputs": []
    },
    {
      "cell_type": "code",
      "metadata": {
        "id": "XbVKvVGKBDAv",
        "colab_type": "code",
        "colab": {}
      },
      "source": [
        "def plot_confusion(data, labels, model, classes=2):\n",
        "  predicted_labels = model.predict(data, batch_size=64)\n",
        "  mtx = np.zeros(shape=(classes,classes))\n",
        "  for i in range(0,len(predicted_labels)):\n",
        "    actual_label = np.argmax(labels[i])\n",
        "    predicted_label = np.argmax(predicted_labels[i])\n",
        "    mtx[actual_label,predicted_label] += 1\n",
        "  plt.imshow(mtx,cmap=plt.cm.ocean_r)\n",
        "  plt.title('Confusion matrix')\n",
        "  plt.colorbar()\n",
        "  marks = [x for x in ['UNT', 'TIN']]\n",
        "  plt.xlabel('Predicted Label')\n",
        "  plt.xticks(np.arange(classes), marks)\n",
        "  plt.ylabel('True Label')\n",
        "  plt.yticks(np.arange(classes), marks)\n",
        "  plt.tight_layout()\n",
        "  for (i, j), z in np.ndenumerate(mtx):\n",
        "    plt.text(j, i, int(z), ha='center', va='center')\n",
        "  plt.show()\n",
        "def do_analysis(test_data, test_labels, model):\n",
        "  predicted_labels = model.predict(test_data, batch_size=64)\n",
        "  y_true = np.argmax(test_labels, axis = 1)\n",
        "  y_pred = np.argmax(predicted_labels, axis = 1)\n",
        "  print(classification_report(y_true, y_pred))\n",
        "  plot_confusion(test_data, test_labels, model, 2)"
      ],
      "execution_count": 0,
      "outputs": []
    },
    {
      "cell_type": "code",
      "metadata": {
        "id": "irlqnecxBEOs",
        "colab_type": "code",
        "colab": {
          "base_uri": "https://localhost:8080/",
          "height": 241
        },
        "outputId": "bfddcbf5-84fa-4e9d-b09f-9754dd787e6a"
      },
      "source": [
        "data,labels = prepare_data(path_to_data,'b')\n",
        "test_data,test_labels = get_test_data('b')\n",
        "data = lemmatize(stop_words(tokenize(data)))\n",
        "test_data = lemmatize(stop_words(tokenize(test_data)))\n",
        "vocab_length = count_vectorizer_len(data)\n",
        "longest_seq = max(get_max_len(data),get_max_len(test_data))\n",
        "#convert data to work with NN\n",
        "train_data, val_data, train_labels, val_labels = train_test_split(np.array(data),labels, test_size=0.35,stratify=labels)\n",
        "train_labels = do_one_hot(train_labels)\n",
        "val_labels = do_one_hot(val_labels)\n",
        "test_labels = do_one_hot(test_labels)\n",
        "train_data = do_input_proc(train_data, vocab_length, longest_seq)\n",
        "val_data = do_input_proc(val_data, vocab_length, longest_seq)\n",
        "test_data = do_input_proc(test_data, vocab_length, longest_seq)"
      ],
      "execution_count": 44,
      "outputs": [
        {
          "output_type": "stream",
          "text": [
            "/usr/local/lib/python3.6/dist-packages/sklearn/preprocessing/_encoders.py:415: FutureWarning: The handling of integer data will change in version 0.22. Currently, the categories are determined based on the range [0, max(values)], while in the future they will be determined based on the unique values.\n",
            "If you want the future behaviour and silence this warning, you can specify \"categories='auto'\".\n",
            "In case you used a LabelEncoder before this OneHotEncoder to convert the categories to integers, then you can now use the OneHotEncoder directly.\n",
            "  warnings.warn(msg, FutureWarning)\n",
            "/usr/local/lib/python3.6/dist-packages/sklearn/preprocessing/_encoders.py:415: FutureWarning: The handling of integer data will change in version 0.22. Currently, the categories are determined based on the range [0, max(values)], while in the future they will be determined based on the unique values.\n",
            "If you want the future behaviour and silence this warning, you can specify \"categories='auto'\".\n",
            "In case you used a LabelEncoder before this OneHotEncoder to convert the categories to integers, then you can now use the OneHotEncoder directly.\n",
            "  warnings.warn(msg, FutureWarning)\n",
            "/usr/local/lib/python3.6/dist-packages/sklearn/preprocessing/_encoders.py:415: FutureWarning: The handling of integer data will change in version 0.22. Currently, the categories are determined based on the range [0, max(values)], while in the future they will be determined based on the unique values.\n",
            "If you want the future behaviour and silence this warning, you can specify \"categories='auto'\".\n",
            "In case you used a LabelEncoder before this OneHotEncoder to convert the categories to integers, then you can now use the OneHotEncoder directly.\n",
            "  warnings.warn(msg, FutureWarning)\n"
          ],
          "name": "stderr"
        }
      ]
    },
    {
      "cell_type": "code",
      "metadata": {
        "id": "Q0FYZMKZKzBJ",
        "colab_type": "code",
        "colab": {
          "base_uri": "https://localhost:8080/",
          "height": 173
        },
        "outputId": "91960087-e90b-4e73-f623-da13d2080b5c"
      },
      "source": [
        "data,labels = prepare_data(path_to_data,'b')\n",
        "test_data,test_labels = get_test_data('b')\n",
        "data = lemmatize(stop_words(tokenize(data)))\n",
        "test_data = lemmatize(stop_words(tokenize(test_data)))\n",
        "vocab_length = count_vectorizer_len(data)\n",
        "longest_seq = max(get_max_len(data),get_max_len(test_data))\n",
        "#convert data to work with NN\n",
        "#train_data, val_data, train_labels, val_labels = train_test_split(np.array(data),labels, test_size=0.35,stratify=labels)\n",
        "train_labels = do_one_hot(labels)\n",
        "test_labels = do_one_hot(test_labels)\n",
        "train_data = do_input_proc(data, vocab_length, longest_seq)\n",
        "test_data = do_input_proc(test_data, vocab_length, longest_seq)"
      ],
      "execution_count": 96,
      "outputs": [
        {
          "output_type": "stream",
          "text": [
            "/usr/local/lib/python3.6/dist-packages/sklearn/preprocessing/_encoders.py:415: FutureWarning: The handling of integer data will change in version 0.22. Currently, the categories are determined based on the range [0, max(values)], while in the future they will be determined based on the unique values.\n",
            "If you want the future behaviour and silence this warning, you can specify \"categories='auto'\".\n",
            "In case you used a LabelEncoder before this OneHotEncoder to convert the categories to integers, then you can now use the OneHotEncoder directly.\n",
            "  warnings.warn(msg, FutureWarning)\n",
            "/usr/local/lib/python3.6/dist-packages/sklearn/preprocessing/_encoders.py:415: FutureWarning: The handling of integer data will change in version 0.22. Currently, the categories are determined based on the range [0, max(values)], while in the future they will be determined based on the unique values.\n",
            "If you want the future behaviour and silence this warning, you can specify \"categories='auto'\".\n",
            "In case you used a LabelEncoder before this OneHotEncoder to convert the categories to integers, then you can now use the OneHotEncoder directly.\n",
            "  warnings.warn(msg, FutureWarning)\n"
          ],
          "name": "stderr"
        }
      ]
    },
    {
      "cell_type": "code",
      "metadata": {
        "id": "KEJlyN9VEs4_",
        "colab_type": "code",
        "colab": {}
      },
      "source": [
        "labels[:100]"
      ],
      "execution_count": 0,
      "outputs": []
    },
    {
      "cell_type": "code",
      "metadata": {
        "id": "RRNEvD5DBGZ9",
        "colab_type": "code",
        "colab": {
          "base_uri": "https://localhost:8080/",
          "height": 377
        },
        "outputId": "3f8b3dfe-5ced-4dca-bc0a-b04e3a2ebe8c"
      },
      "source": [
        "lstm = Sequential()\n",
        "lstm.add(Embedding(vocab_length, 30, input_length=longest_seq))\n",
        "lstm.add(LSTM(200))\n",
        "lstm.add(Dense(longest_seq, activation='relu', W_regularizer=regularizers.l2(0.90)))\n",
        "lstm.add(Dense(train_labels.shape[1], activation='sigmoid', W_regularizer=regularizers.l2(0.1)))\n",
        "adam_1 = Adam(lr=0.008)\n",
        "lstm.compile(loss='binary_crossentropy', optimizer=adam_1,metrics=['accuracy'])\n",
        "lstm.summary()"
      ],
      "execution_count": 133,
      "outputs": [
        {
          "output_type": "stream",
          "text": [
            "Model: \"sequential_25\"\n",
            "_________________________________________________________________\n",
            "Layer (type)                 Output Shape              Param #   \n",
            "=================================================================\n",
            "embedding_25 (Embedding)     (None, 41, 30)            253230    \n",
            "_________________________________________________________________\n",
            "lstm_16 (LSTM)               (None, 200)               184800    \n",
            "_________________________________________________________________\n",
            "dense_35 (Dense)             (None, 41)                8241      \n",
            "_________________________________________________________________\n",
            "dense_36 (Dense)             (None, 2)                 84        \n",
            "=================================================================\n",
            "Total params: 446,355\n",
            "Trainable params: 446,355\n",
            "Non-trainable params: 0\n",
            "_________________________________________________________________\n"
          ],
          "name": "stdout"
        },
        {
          "output_type": "stream",
          "text": [
            "/usr/local/lib/python3.6/dist-packages/ipykernel_launcher.py:4: UserWarning: Update your `Dense` call to the Keras 2 API: `Dense(41, activation=\"relu\", kernel_regularizer=<keras.reg...)`\n",
            "  after removing the cwd from sys.path.\n",
            "/usr/local/lib/python3.6/dist-packages/ipykernel_launcher.py:5: UserWarning: Update your `Dense` call to the Keras 2 API: `Dense(2, activation=\"sigmoid\", kernel_regularizer=<keras.reg...)`\n",
            "  \"\"\"\n"
          ],
          "name": "stderr"
        }
      ]
    },
    {
      "cell_type": "code",
      "metadata": {
        "id": "PxQC8QziJhQI",
        "colab_type": "code",
        "colab": {}
      },
      "source": [
        "class_weights = class_weights = class_weight.compute_class_weight('balanced', np.unique(labels), labels)"
      ],
      "execution_count": 0,
      "outputs": []
    },
    {
      "cell_type": "code",
      "metadata": {
        "id": "DDPGXy1hJzRz",
        "colab_type": "code",
        "colab": {
          "base_uri": "https://localhost:8080/",
          "height": 34
        },
        "outputId": "1a006105-afee-4514-aa69-dc3c29ee70da"
      },
      "source": [
        "class_weights"
      ],
      "execution_count": 135,
      "outputs": [
        {
          "output_type": "execute_result",
          "data": {
            "text/plain": [
              "array([4.19847328, 0.56759546])"
            ]
          },
          "metadata": {
            "tags": []
          },
          "execution_count": 135
        }
      ]
    },
    {
      "cell_type": "code",
      "metadata": {
        "id": "M2x-I0tXBnWh",
        "colab_type": "code",
        "colab": {
          "base_uri": "https://localhost:8080/",
          "height": 358
        },
        "outputId": "baec385d-ccd6-480e-ea33-7363ff6828b6"
      },
      "source": [
        "lstm.fit(train_data, train_labels, batch_size=64,epochs=30,verbose=1,validation_data=(test_data,test_labels),class_weight=class_weights)"
      ],
      "execution_count": 137,
      "outputs": [
        {
          "output_type": "stream",
          "text": [
            "Train on 4400 samples, validate on 240 samples\n",
            "Epoch 1/30\n",
            "3520/4400 [=======================>......] - ETA: 0s - loss: 0.3718 - acc: 0.8810"
          ],
          "name": "stdout"
        },
        {
          "output_type": "error",
          "ename": "KeyboardInterrupt",
          "evalue": "ignored",
          "traceback": [
            "\u001b[0;31m---------------------------------------------------------------------------\u001b[0m",
            "\u001b[0;31mKeyboardInterrupt\u001b[0m                         Traceback (most recent call last)",
            "\u001b[0;32m<ipython-input-137-90e6aa8acff6>\u001b[0m in \u001b[0;36m<module>\u001b[0;34m()\u001b[0m\n\u001b[0;32m----> 1\u001b[0;31m \u001b[0mlstm\u001b[0m\u001b[0;34m.\u001b[0m\u001b[0mfit\u001b[0m\u001b[0;34m(\u001b[0m\u001b[0mtrain_data\u001b[0m\u001b[0;34m,\u001b[0m \u001b[0mtrain_labels\u001b[0m\u001b[0;34m,\u001b[0m \u001b[0mbatch_size\u001b[0m\u001b[0;34m=\u001b[0m\u001b[0;36m64\u001b[0m\u001b[0;34m,\u001b[0m\u001b[0mepochs\u001b[0m\u001b[0;34m=\u001b[0m\u001b[0;36m30\u001b[0m\u001b[0;34m,\u001b[0m\u001b[0mverbose\u001b[0m\u001b[0;34m=\u001b[0m\u001b[0;36m1\u001b[0m\u001b[0;34m,\u001b[0m\u001b[0mvalidation_data\u001b[0m\u001b[0;34m=\u001b[0m\u001b[0;34m(\u001b[0m\u001b[0mtest_data\u001b[0m\u001b[0;34m,\u001b[0m\u001b[0mtest_labels\u001b[0m\u001b[0;34m)\u001b[0m\u001b[0;34m,\u001b[0m\u001b[0mclass_weight\u001b[0m\u001b[0;34m=\u001b[0m\u001b[0mclass_weights\u001b[0m\u001b[0;34m)\u001b[0m\u001b[0;34m\u001b[0m\u001b[0;34m\u001b[0m\u001b[0m\n\u001b[0m",
            "\u001b[0;32m/usr/local/lib/python3.6/dist-packages/keras/engine/training.py\u001b[0m in \u001b[0;36mfit\u001b[0;34m(self, x, y, batch_size, epochs, verbose, callbacks, validation_split, validation_data, shuffle, class_weight, sample_weight, initial_epoch, steps_per_epoch, validation_steps, validation_freq, max_queue_size, workers, use_multiprocessing, **kwargs)\u001b[0m\n\u001b[1;32m   1176\u001b[0m                                         \u001b[0msteps_per_epoch\u001b[0m\u001b[0;34m=\u001b[0m\u001b[0msteps_per_epoch\u001b[0m\u001b[0;34m,\u001b[0m\u001b[0;34m\u001b[0m\u001b[0;34m\u001b[0m\u001b[0m\n\u001b[1;32m   1177\u001b[0m                                         \u001b[0mvalidation_steps\u001b[0m\u001b[0;34m=\u001b[0m\u001b[0mvalidation_steps\u001b[0m\u001b[0;34m,\u001b[0m\u001b[0;34m\u001b[0m\u001b[0;34m\u001b[0m\u001b[0m\n\u001b[0;32m-> 1178\u001b[0;31m                                         validation_freq=validation_freq)\n\u001b[0m\u001b[1;32m   1179\u001b[0m \u001b[0;34m\u001b[0m\u001b[0m\n\u001b[1;32m   1180\u001b[0m     def evaluate(self,\n",
            "\u001b[0;32m/usr/local/lib/python3.6/dist-packages/keras/engine/training_arrays.py\u001b[0m in \u001b[0;36mfit_loop\u001b[0;34m(model, fit_function, fit_inputs, out_labels, batch_size, epochs, verbose, callbacks, val_function, val_inputs, shuffle, callback_metrics, initial_epoch, steps_per_epoch, validation_steps, validation_freq)\u001b[0m\n\u001b[1;32m    202\u001b[0m                     \u001b[0mins_batch\u001b[0m\u001b[0;34m[\u001b[0m\u001b[0mi\u001b[0m\u001b[0;34m]\u001b[0m \u001b[0;34m=\u001b[0m \u001b[0mins_batch\u001b[0m\u001b[0;34m[\u001b[0m\u001b[0mi\u001b[0m\u001b[0;34m]\u001b[0m\u001b[0;34m.\u001b[0m\u001b[0mtoarray\u001b[0m\u001b[0;34m(\u001b[0m\u001b[0;34m)\u001b[0m\u001b[0;34m\u001b[0m\u001b[0;34m\u001b[0m\u001b[0m\n\u001b[1;32m    203\u001b[0m \u001b[0;34m\u001b[0m\u001b[0m\n\u001b[0;32m--> 204\u001b[0;31m                 \u001b[0mouts\u001b[0m \u001b[0;34m=\u001b[0m \u001b[0mfit_function\u001b[0m\u001b[0;34m(\u001b[0m\u001b[0mins_batch\u001b[0m\u001b[0;34m)\u001b[0m\u001b[0;34m\u001b[0m\u001b[0;34m\u001b[0m\u001b[0m\n\u001b[0m\u001b[1;32m    205\u001b[0m                 \u001b[0mouts\u001b[0m \u001b[0;34m=\u001b[0m \u001b[0mto_list\u001b[0m\u001b[0;34m(\u001b[0m\u001b[0mouts\u001b[0m\u001b[0;34m)\u001b[0m\u001b[0;34m\u001b[0m\u001b[0;34m\u001b[0m\u001b[0m\n\u001b[1;32m    206\u001b[0m                 \u001b[0;32mfor\u001b[0m \u001b[0ml\u001b[0m\u001b[0;34m,\u001b[0m \u001b[0mo\u001b[0m \u001b[0;32min\u001b[0m \u001b[0mzip\u001b[0m\u001b[0;34m(\u001b[0m\u001b[0mout_labels\u001b[0m\u001b[0;34m,\u001b[0m \u001b[0mouts\u001b[0m\u001b[0;34m)\u001b[0m\u001b[0;34m:\u001b[0m\u001b[0;34m\u001b[0m\u001b[0;34m\u001b[0m\u001b[0m\n",
            "\u001b[0;32m/usr/local/lib/python3.6/dist-packages/keras/backend/tensorflow_backend.py\u001b[0m in \u001b[0;36m__call__\u001b[0;34m(self, inputs)\u001b[0m\n\u001b[1;32m   2977\u001b[0m                     \u001b[0;32mreturn\u001b[0m \u001b[0mself\u001b[0m\u001b[0;34m.\u001b[0m\u001b[0m_legacy_call\u001b[0m\u001b[0;34m(\u001b[0m\u001b[0minputs\u001b[0m\u001b[0;34m)\u001b[0m\u001b[0;34m\u001b[0m\u001b[0;34m\u001b[0m\u001b[0m\n\u001b[1;32m   2978\u001b[0m \u001b[0;34m\u001b[0m\u001b[0m\n\u001b[0;32m-> 2979\u001b[0;31m             \u001b[0;32mreturn\u001b[0m \u001b[0mself\u001b[0m\u001b[0;34m.\u001b[0m\u001b[0m_call\u001b[0m\u001b[0;34m(\u001b[0m\u001b[0minputs\u001b[0m\u001b[0;34m)\u001b[0m\u001b[0;34m\u001b[0m\u001b[0;34m\u001b[0m\u001b[0m\n\u001b[0m\u001b[1;32m   2980\u001b[0m         \u001b[0;32melse\u001b[0m\u001b[0;34m:\u001b[0m\u001b[0;34m\u001b[0m\u001b[0;34m\u001b[0m\u001b[0m\n\u001b[1;32m   2981\u001b[0m             \u001b[0;32mif\u001b[0m \u001b[0mpy_any\u001b[0m\u001b[0;34m(\u001b[0m\u001b[0mis_tensor\u001b[0m\u001b[0;34m(\u001b[0m\u001b[0mx\u001b[0m\u001b[0;34m)\u001b[0m \u001b[0;32mfor\u001b[0m \u001b[0mx\u001b[0m \u001b[0;32min\u001b[0m \u001b[0minputs\u001b[0m\u001b[0;34m)\u001b[0m\u001b[0;34m:\u001b[0m\u001b[0;34m\u001b[0m\u001b[0;34m\u001b[0m\u001b[0m\n",
            "\u001b[0;32m/usr/local/lib/python3.6/dist-packages/keras/backend/tensorflow_backend.py\u001b[0m in \u001b[0;36m_call\u001b[0;34m(self, inputs)\u001b[0m\n\u001b[1;32m   2935\u001b[0m             \u001b[0mfetched\u001b[0m \u001b[0;34m=\u001b[0m \u001b[0mself\u001b[0m\u001b[0;34m.\u001b[0m\u001b[0m_callable_fn\u001b[0m\u001b[0;34m(\u001b[0m\u001b[0;34m*\u001b[0m\u001b[0marray_vals\u001b[0m\u001b[0;34m,\u001b[0m \u001b[0mrun_metadata\u001b[0m\u001b[0;34m=\u001b[0m\u001b[0mself\u001b[0m\u001b[0;34m.\u001b[0m\u001b[0mrun_metadata\u001b[0m\u001b[0;34m)\u001b[0m\u001b[0;34m\u001b[0m\u001b[0;34m\u001b[0m\u001b[0m\n\u001b[1;32m   2936\u001b[0m         \u001b[0;32melse\u001b[0m\u001b[0;34m:\u001b[0m\u001b[0;34m\u001b[0m\u001b[0;34m\u001b[0m\u001b[0m\n\u001b[0;32m-> 2937\u001b[0;31m             \u001b[0mfetched\u001b[0m \u001b[0;34m=\u001b[0m \u001b[0mself\u001b[0m\u001b[0;34m.\u001b[0m\u001b[0m_callable_fn\u001b[0m\u001b[0;34m(\u001b[0m\u001b[0;34m*\u001b[0m\u001b[0marray_vals\u001b[0m\u001b[0;34m)\u001b[0m\u001b[0;34m\u001b[0m\u001b[0;34m\u001b[0m\u001b[0m\n\u001b[0m\u001b[1;32m   2938\u001b[0m         \u001b[0;32mreturn\u001b[0m \u001b[0mfetched\u001b[0m\u001b[0;34m[\u001b[0m\u001b[0;34m:\u001b[0m\u001b[0mlen\u001b[0m\u001b[0;34m(\u001b[0m\u001b[0mself\u001b[0m\u001b[0;34m.\u001b[0m\u001b[0moutputs\u001b[0m\u001b[0;34m)\u001b[0m\u001b[0;34m]\u001b[0m\u001b[0;34m\u001b[0m\u001b[0;34m\u001b[0m\u001b[0m\n\u001b[1;32m   2939\u001b[0m \u001b[0;34m\u001b[0m\u001b[0m\n",
            "\u001b[0;32m/usr/local/lib/python3.6/dist-packages/tensorflow_core/python/client/session.py\u001b[0m in \u001b[0;36m__call__\u001b[0;34m(self, *args, **kwargs)\u001b[0m\n\u001b[1;32m   1470\u001b[0m         ret = tf_session.TF_SessionRunCallable(self._session._session,\n\u001b[1;32m   1471\u001b[0m                                                \u001b[0mself\u001b[0m\u001b[0;34m.\u001b[0m\u001b[0m_handle\u001b[0m\u001b[0;34m,\u001b[0m \u001b[0margs\u001b[0m\u001b[0;34m,\u001b[0m\u001b[0;34m\u001b[0m\u001b[0;34m\u001b[0m\u001b[0m\n\u001b[0;32m-> 1472\u001b[0;31m                                                run_metadata_ptr)\n\u001b[0m\u001b[1;32m   1473\u001b[0m         \u001b[0;32mif\u001b[0m \u001b[0mrun_metadata\u001b[0m\u001b[0;34m:\u001b[0m\u001b[0;34m\u001b[0m\u001b[0;34m\u001b[0m\u001b[0m\n\u001b[1;32m   1474\u001b[0m           \u001b[0mproto_data\u001b[0m \u001b[0;34m=\u001b[0m \u001b[0mtf_session\u001b[0m\u001b[0;34m.\u001b[0m\u001b[0mTF_GetBuffer\u001b[0m\u001b[0;34m(\u001b[0m\u001b[0mrun_metadata_ptr\u001b[0m\u001b[0;34m)\u001b[0m\u001b[0;34m\u001b[0m\u001b[0;34m\u001b[0m\u001b[0m\n",
            "\u001b[0;31mKeyboardInterrupt\u001b[0m: "
          ]
        }
      ]
    },
    {
      "cell_type": "code",
      "metadata": {
        "id": "c-VPekeXBo-N",
        "colab_type": "code",
        "colab": {
          "base_uri": "https://localhost:8080/",
          "height": 51
        },
        "outputId": "bd82bfaf-57bd-42b2-a092-56c9fd968962"
      },
      "source": [
        "print(lstm.metrics_names, lstm.evaluate(test_data, test_labels, batch_size=64, verbose=1))"
      ],
      "execution_count": 89,
      "outputs": [
        {
          "output_type": "stream",
          "text": [
            "240/240 [==============================] - 0s 410us/step\n",
            "['loss', 'acc'] [0.3542595148086548, 0.8875]\n"
          ],
          "name": "stdout"
        }
      ]
    },
    {
      "cell_type": "code",
      "metadata": {
        "id": "OQLV-zCXB3k7",
        "colab_type": "code",
        "colab": {
          "base_uri": "https://localhost:8080/",
          "height": 538
        },
        "outputId": "987d5789-c3bf-477d-e54a-bdf97b022b6d"
      },
      "source": [
        "do_analysis(test_data, test_labels, lstm)"
      ],
      "execution_count": 100,
      "outputs": [
        {
          "output_type": "stream",
          "text": [
            "/usr/local/lib/python3.6/dist-packages/sklearn/metrics/classification.py:1437: UndefinedMetricWarning: Precision and F-score are ill-defined and being set to 0.0 in labels with no predicted samples.\n",
            "  'precision', 'predicted', average, warn_for)\n"
          ],
          "name": "stderr"
        },
        {
          "output_type": "stream",
          "text": [
            "              precision    recall  f1-score   support\n",
            "\n",
            "           0       0.00      0.00      0.00        27\n",
            "           1       0.89      1.00      0.94       213\n",
            "\n",
            "    accuracy                           0.89       240\n",
            "   macro avg       0.44      0.50      0.47       240\n",
            "weighted avg       0.79      0.89      0.83       240\n",
            "\n",
            "[[0. 1.]\n",
            " [0. 1.]]\n"
          ],
          "name": "stdout"
        },
        {
          "output_type": "display_data",
          "data": {
            "image/png": "[encoded data removed]",
            "text/plain": [
              "<Figure size 432x288 with 2 Axes>"
            ]
          },
          "metadata": {
            "tags": []
          }
        }
      ]
    },
    {
      "cell_type": "code",
      "metadata": {
        "id": "-OuPI3AqGXz1",
        "colab_type": "code",
        "colab": {
          "base_uri": "https://localhost:8080/",
          "height": 289
        },
        "outputId": "eb3557b9-82da-46ad-f92d-4f82ba67e9e6"
      },
      "source": [
        "# lstm model\n",
        "lstm1 = Sequential()\n",
        "lstm1.add(Embedding(vocab_length, 30, input_length=longest_seq))\n",
        "lstm1.add(Dropout(0.5))\n",
        "lstm1.add(LSTM(100))\n",
        "#lstm.add(Dense(longest_seq, activation='relu', W_regularizer=regularizers.l2(0.90))) , W_regularizer=regularizers.l2(0.1))\n",
        "lstm1.add(Dense(train_labels.shape[1], activation='softmax'))\n",
        "madam = Adam(lr=0.008)\n",
        "lstm1.compile(loss='binary_crossentropy', optimizer='adam',metrics=['accuracy'])\n",
        "lstm1.summary()\n",
        "early_stopping = EarlyStopping(monitor='loss', patience=5)"
      ],
      "execution_count": 147,
      "outputs": [
        {
          "output_type": "stream",
          "text": [
            "Model: \"sequential_29\"\n",
            "_________________________________________________________________\n",
            "Layer (type)                 Output Shape              Param #   \n",
            "=================================================================\n",
            "embedding_29 (Embedding)     (None, 41, 30)            253230    \n",
            "_________________________________________________________________\n",
            "dropout_36 (Dropout)         (None, 41, 30)            0         \n",
            "_________________________________________________________________\n",
            "lstm_20 (LSTM)               (None, 100)               52400     \n",
            "_________________________________________________________________\n",
            "dense_40 (Dense)             (None, 2)                 202       \n",
            "=================================================================\n",
            "Total params: 305,832\n",
            "Trainable params: 305,832\n",
            "Non-trainable params: 0\n",
            "_________________________________________________________________\n"
          ],
          "name": "stdout"
        }
      ]
    },
    {
      "cell_type": "code",
      "metadata": {
        "id": "XkcFEscCGds7",
        "colab_type": "code",
        "colab": {
          "base_uri": "https://localhost:8080/",
          "height": 561
        },
        "outputId": "1eb1848e-7027-4e93-ee16-9acfe9cbb44d"
      },
      "source": [
        "lstm1.fit(train_data, train_labels, batch_size=16,epochs=15,verbose=1,validation_data=(test_data,test_labels),class_weight=class_weights)"
      ],
      "execution_count": 148,
      "outputs": [
        {
          "output_type": "stream",
          "text": [
            "Train on 4400 samples, validate on 240 samples\n",
            "Epoch 1/15\n",
            "4400/4400 [==============================] - 22s 5ms/step - loss: 0.3806 - acc: 0.8809 - val_loss: 0.3550 - val_acc: 0.8875\n",
            "Epoch 2/15\n",
            "4400/4400 [==============================] - 17s 4ms/step - loss: 0.3674 - acc: 0.8809 - val_loss: 0.3532 - val_acc: 0.8875\n",
            "Epoch 3/15\n",
            "4400/4400 [==============================] - 17s 4ms/step - loss: 0.3677 - acc: 0.8809 - val_loss: 0.3522 - val_acc: 0.8875\n",
            "Epoch 4/15\n",
            "4400/4400 [==============================] - 17s 4ms/step - loss: 0.3657 - acc: 0.8809 - val_loss: 0.3535 - val_acc: 0.8875\n",
            "Epoch 5/15\n",
            "4400/4400 [==============================] - 17s 4ms/step - loss: 0.3674 - acc: 0.8809 - val_loss: 0.3543 - val_acc: 0.8875\n",
            "Epoch 6/15\n",
            "4400/4400 [==============================] - 17s 4ms/step - loss: 0.3526 - acc: 0.8809 - val_loss: 0.3350 - val_acc: 0.8875\n",
            "Epoch 7/15\n",
            "4400/4400 [==============================] - 17s 4ms/step - loss: 0.3355 - acc: 0.8805 - val_loss: 0.3247 - val_acc: 0.8875\n",
            "Epoch 8/15\n",
            "4400/4400 [==============================] - 17s 4ms/step - loss: 0.3157 - acc: 0.8809 - val_loss: 0.3351 - val_acc: 0.8875\n",
            "Epoch 9/15\n",
            "4400/4400 [==============================] - 17s 4ms/step - loss: 0.2955 - acc: 0.8805 - val_loss: 0.3093 - val_acc: 0.8875\n",
            "Epoch 10/15\n",
            "4400/4400 [==============================] - 17s 4ms/step - loss: 0.2679 - acc: 0.8807 - val_loss: 0.3215 - val_acc: 0.8875\n",
            "Epoch 11/15\n",
            "4400/4400 [==============================] - 17s 4ms/step - loss: 0.2273 - acc: 0.8966 - val_loss: 0.3206 - val_acc: 0.8875\n",
            "Epoch 12/15\n",
            "4400/4400 [==============================] - 17s 4ms/step - loss: 0.2158 - acc: 0.9043 - val_loss: 0.3965 - val_acc: 0.8458\n",
            "Epoch 13/15\n",
            "4400/4400 [==============================] - 17s 4ms/step - loss: 0.1790 - acc: 0.9257 - val_loss: 0.3896 - val_acc: 0.8583\n",
            "Epoch 14/15\n",
            "4400/4400 [==============================] - 18s 4ms/step - loss: 0.1477 - acc: 0.9411 - val_loss: 0.4128 - val_acc: 0.8583\n",
            "Epoch 15/15\n",
            "4400/4400 [==============================] - 17s 4ms/step - loss: 0.1336 - acc: 0.9443 - val_loss: 0.4543 - val_acc: 0.8375\n"
          ],
          "name": "stdout"
        },
        {
          "output_type": "execute_result",
          "data": {
            "text/plain": [
              "<keras.callbacks.History at 0x7f97c51a7c88>"
            ]
          },
          "metadata": {
            "tags": []
          },
          "execution_count": 148
        }
      ]
    },
    {
      "cell_type": "code",
      "metadata": {
        "id": "NGLgE94bGp_e",
        "colab_type": "code",
        "colab": {
          "base_uri": "https://localhost:8080/",
          "height": 51
        },
        "outputId": "84e97220-ed9e-4a07-ae33-7626cdaf7080"
      },
      "source": [
        "print(lstm1.metrics_names, lstm1.evaluate(test_data, test_labels, batch_size=64, verbose=1))"
      ],
      "execution_count": 149,
      "outputs": [
        {
          "output_type": "stream",
          "text": [
            "240/240 [==============================] - 0s 450us/step\n",
            "['loss', 'acc'] [0.45433543920516967, 0.837499996026357]\n"
          ],
          "name": "stdout"
        }
      ]
    },
    {
      "cell_type": "code",
      "metadata": {
        "id": "BZJSGGWiSXdN",
        "colab_type": "code",
        "colab": {}
      },
      "source": [
        "def plot_norm(data, labels, model, classes=2):\n",
        "  predicted_labels = model.predict(data, batch_size=64)\n",
        "  mtx = np.zeros(shape=(classes,classes))\n",
        "  for i in range(0,len(predicted_labels)):\n",
        "    actual_label = np.argmax(labels[i])\n",
        "    predicted_label = np.argmax(predicted_labels[i])\n",
        "    mtx[actual_label,predicted_label] += 1\n",
        "  norm = np.zeros(shape=(classes,classes))\n",
        "  for i in range(classes):\n",
        "    for j in range(classes):\n",
        "      norm[i][j] = mtx[i][j] / np.sum(mtx[i])\n",
        "  print(norm)\n",
        "  plt.imshow(norm,cmap=plt.cm.ocean_r)\n",
        "  plt.title('Confusion matrix')\n",
        "  plt.colorbar()\n",
        "  marks = [x for x in ['UNT', 'TIN']]\n",
        "  plt.xlabel('Predicted Label')\n",
        "  plt.xticks(np.arange(classes), marks)\n",
        "  plt.ylabel('True Label')\n",
        "  plt.yticks(np.arange(classes), marks)\n",
        "  plt.tight_layout()\n",
        "  for (i, j), z in np.ndenumerate(norm):\n",
        "    plt.text(j, i, round(z,2), ha='center', va='center')\n",
        "  plt.show()"
      ],
      "execution_count": 0,
      "outputs": []
    },
    {
      "cell_type": "code",
      "metadata": {
        "id": "7MTRDq-4TkX_",
        "colab_type": "code",
        "colab": {
          "base_uri": "https://localhost:8080/",
          "height": 331
        },
        "outputId": "222ae3c8-f2e4-4982-8227-29addcde3b4f"
      },
      "source": [
        "plot_norm(test_data, test_labels, lstm1)"
      ],
      "execution_count": 159,
      "outputs": [
        {
          "output_type": "stream",
          "text": [
            "[[0.22222222 0.77777778]\n",
            " [0.08450704 0.91549296]]\n"
          ],
          "name": "stdout"
        },
        {
          "output_type": "display_data",
          "data": {
            "image/png": "[encoded data removed]",
            "text/plain": [
              "<Figure size 432x288 with 2 Axes>"
            ]
          },
          "metadata": {
            "tags": []
          }
        }
      ]
    },
    {
      "cell_type": "code",
      "metadata": {
        "id": "j17eLdOcGtC2",
        "colab_type": "code",
        "colab": {
          "base_uri": "https://localhost:8080/",
          "height": 484
        },
        "outputId": "31a09365-41f2-4274-ef76-e6c53da79de9"
      },
      "source": [
        "do_analysis(test_data, test_labels, lstm1)\n"
      ],
      "execution_count": 150,
      "outputs": [
        {
          "output_type": "stream",
          "text": [
            "              precision    recall  f1-score   support\n",
            "\n",
            "           0       0.25      0.22      0.24        27\n",
            "           1       0.90      0.92      0.91       213\n",
            "\n",
            "    accuracy                           0.84       240\n",
            "   macro avg       0.58      0.57      0.57       240\n",
            "weighted avg       0.83      0.84      0.83       240\n",
            "\n",
            "[[0.22222222 0.77777778]\n",
            " [0.08450704 0.91549296]]\n"
          ],
          "name": "stdout"
        },
        {
          "output_type": "display_data",
          "data": {
            "image/png": "[encoded data removed]",
            "text/plain": [
              "<Figure size 432x288 with 2 Axes>"
            ]
          },
          "metadata": {
            "tags": []
          }
        }
      ]
    },
    {
      "cell_type": "code",
      "metadata": {
        "id": "YBARsAQ6B5zE",
        "colab_type": "code",
        "colab": {
          "base_uri": "https://localhost:8080/",
          "height": 360
        },
        "outputId": "dc614a69-ace9-42ed-984b-c7571959bba3"
      },
      "source": [
        "# lstm model\n",
        "lstm_complex = Sequential()\n",
        "lstm_complex.add(Embedding(vocab_length, 30, input_length=longest_seq))\n",
        "#lstm_complex.add(Dropout(0.4))\n",
        "lstm_complex.add(LSTM(50))\n",
        "lstm_complex.add(Dense(longest_seq, activation='relu'))\n",
        "lstm_complex.add(Dropout(0.75))\n",
        "lstm_complex.add(Dense(train_labels.shape[1], activation='sigmoid'))\n",
        "#madam = Adam(lr=0.008)\n",
        "lstm_complex.compile(loss='categorical_crossentropy', optimizer='adam',metrics=['accuracy'])\n",
        "lstm_complex.summary()"
      ],
      "execution_count": 53,
      "outputs": [
        {
          "output_type": "stream",
          "text": [
            "WARNING:tensorflow:Large dropout rate: 0.75 (>0.5). In TensorFlow 2.x, dropout() uses dropout rate instead of keep_prob. Please ensure that this is intended.\n",
            "Model: \"sequential_9\"\n",
            "_________________________________________________________________\n",
            "Layer (type)                 Output Shape              Param #   \n",
            "=================================================================\n",
            "embedding_9 (Embedding)      (None, 41, 30)            253230    \n",
            "_________________________________________________________________\n",
            "lstm_8 (LSTM)                (None, 50)                16200     \n",
            "_________________________________________________________________\n",
            "dense_12 (Dense)             (None, 41)                2091      \n",
            "_________________________________________________________________\n",
            "dropout_7 (Dropout)          (None, 41)                0         \n",
            "_________________________________________________________________\n",
            "dense_13 (Dense)             (None, 2)                 84        \n",
            "=================================================================\n",
            "Total params: 271,605\n",
            "Trainable params: 271,605\n",
            "Non-trainable params: 0\n",
            "_________________________________________________________________\n"
          ],
          "name": "stdout"
        }
      ]
    },
    {
      "cell_type": "code",
      "metadata": {
        "id": "vhFRW73DCLtk",
        "colab_type": "code",
        "colab": {
          "base_uri": "https://localhost:8080/",
          "height": 187
        },
        "outputId": "c193f69c-e714-4719-a705-94aa9dbfa30b"
      },
      "source": [
        "early_stopping = EarlyStopping(monitor='val_loss', patience=2)\n",
        "lstm_complex.fit(train_data, train_labels, batch_size=64,epochs=8,verbose=1,validation_data=(val_data,val_labels),callbacks=[early_stopping])"
      ],
      "execution_count": 54,
      "outputs": [
        {
          "output_type": "stream",
          "text": [
            "Train on 2860 samples, validate on 1540 samples\n",
            "Epoch 1/8\n",
            "2860/2860 [==============================] - 5s 2ms/step - loss: 0.5141 - acc: 0.8762 - val_loss: 0.3807 - val_acc: 0.8812\n",
            "Epoch 2/8\n",
            "2860/2860 [==============================] - 3s 1ms/step - loss: 0.4126 - acc: 0.8808 - val_loss: 0.3649 - val_acc: 0.8812\n",
            "Epoch 3/8\n",
            "2860/2860 [==============================] - 3s 1ms/step - loss: 0.4038 - acc: 0.8808 - val_loss: 0.3657 - val_acc: 0.8812\n",
            "Epoch 4/8\n",
            "2860/2860 [==============================] - 3s 1ms/step - loss: 0.4040 - acc: 0.8808 - val_loss: 0.3653 - val_acc: 0.8812\n"
          ],
          "name": "stdout"
        },
        {
          "output_type": "execute_result",
          "data": {
            "text/plain": [
              "<keras.callbacks.History at 0x7f986e25de10>"
            ]
          },
          "metadata": {
            "tags": []
          },
          "execution_count": 54
        }
      ]
    },
    {
      "cell_type": "code",
      "metadata": {
        "id": "kx__7WshCaqU",
        "colab_type": "code",
        "colab": {
          "base_uri": "https://localhost:8080/",
          "height": 538
        },
        "outputId": "f77d7035-5d7f-444f-8f12-d92835bba827"
      },
      "source": [
        "do_analysis(test_data, test_labels, lstm_complex)"
      ],
      "execution_count": 56,
      "outputs": [
        {
          "output_type": "stream",
          "text": [
            "/usr/local/lib/python3.6/dist-packages/sklearn/metrics/classification.py:1437: UndefinedMetricWarning: Precision and F-score are ill-defined and being set to 0.0 in labels with no predicted samples.\n",
            "  'precision', 'predicted', average, warn_for)\n"
          ],
          "name": "stderr"
        },
        {
          "output_type": "stream",
          "text": [
            "              precision    recall  f1-score   support\n",
            "\n",
            "           0       0.00      0.00      0.00        27\n",
            "           1       0.89      1.00      0.94       213\n",
            "\n",
            "    accuracy                           0.89       240\n",
            "   macro avg       0.44      0.50      0.47       240\n",
            "weighted avg       0.79      0.89      0.83       240\n",
            "\n",
            "[[0. 1.]\n",
            " [0. 1.]]\n"
          ],
          "name": "stdout"
        },
        {
          "output_type": "display_data",
          "data": {
            "image/png": "[encoded data removed]",
            "text/plain": [
              "<Figure size 432x288 with 2 Axes>"
            ]
          },
          "metadata": {
            "tags": []
          }
        }
      ]
    },
    {
      "cell_type": "code",
      "metadata": {
        "id": "Fb4NJK8-Ccs7",
        "colab_type": "code",
        "colab": {
          "base_uri": "https://localhost:8080/",
          "height": 493
        },
        "outputId": "060173c0-21df-46a6-d99c-abc2a3f850be"
      },
      "source": [
        "cnn = Sequential()\n",
        "cnn.add(Embedding(vocab_length, 30, input_length=longest_seq))\n",
        "cnn.add(Reshape((30,longest_seq,1)))\n",
        "cnn.add(Convolution2D(32,(1,5),activation=\"relu\"))\n",
        "cnn.add(Dropout(0.9))\n",
        "cnn.add(Convolution2D(16,(2,3),activation=\"relu\"))\n",
        "cnn.add(Dropout(0.8))\n",
        "cnn.add(Convolution2D(16,(2,2),activation=\"relu\"))\n",
        "cnn.add(Dropout(0.7))\n",
        "cnn.add(Flatten())\n",
        "cnn.add(Dense(train_labels.shape[1],activation='sigmoid'))\n",
        "cnn.compile(loss='categorical_crossentropy', optimizer='adam',metrics=['accuracy'])\n",
        "cnn.summary()"
      ],
      "execution_count": 125,
      "outputs": [
        {
          "output_type": "stream",
          "text": [
            "Model: \"sequential_23\"\n",
            "_________________________________________________________________\n",
            "Layer (type)                 Output Shape              Param #   \n",
            "=================================================================\n",
            "embedding_23 (Embedding)     (None, 41, 30)            253230    \n",
            "_________________________________________________________________\n",
            "reshape_9 (Reshape)          (None, 30, 41, 1)         0         \n",
            "_________________________________________________________________\n",
            "conv2d_25 (Conv2D)           (None, 30, 37, 32)        192       \n",
            "_________________________________________________________________\n",
            "dropout_30 (Dropout)         (None, 30, 37, 32)        0         \n",
            "_________________________________________________________________\n",
            "conv2d_26 (Conv2D)           (None, 29, 35, 16)        3088      \n",
            "_________________________________________________________________\n",
            "dropout_31 (Dropout)         (None, 29, 35, 16)        0         \n",
            "_________________________________________________________________\n",
            "conv2d_27 (Conv2D)           (None, 28, 34, 16)        1040      \n",
            "_________________________________________________________________\n",
            "dropout_32 (Dropout)         (None, 28, 34, 16)        0         \n",
            "_________________________________________________________________\n",
            "flatten_9 (Flatten)          (None, 15232)             0         \n",
            "_________________________________________________________________\n",
            "dense_32 (Dense)             (None, 2)                 30466     \n",
            "=================================================================\n",
            "Total params: 288,016\n",
            "Trainable params: 288,016\n",
            "Non-trainable params: 0\n",
            "_________________________________________________________________\n"
          ],
          "name": "stdout"
        }
      ]
    },
    {
      "cell_type": "code",
      "metadata": {
        "id": "cTLT91DSCjMk",
        "colab_type": "code",
        "colab": {
          "base_uri": "https://localhost:8080/",
          "height": 255
        },
        "outputId": "dd7be1ac-c253-4455-c1a4-c0cca0c1d474"
      },
      "source": [
        "early_stopping = EarlyStopping(monitor='val_acc', patience=10)\n",
        "cnn.fit(train_data, train_labels, batch_size=64,epochs=6,verbose=1,validation_data=(test_data,test_labels),callbacks=[early_stopping],class_weight=class_weights)"
      ],
      "execution_count": 126,
      "outputs": [
        {
          "output_type": "stream",
          "text": [
            "Train on 4400 samples, validate on 240 samples\n",
            "Epoch 1/6\n",
            "4400/4400 [==============================] - 4s 936us/step - loss: 0.3865 - acc: 0.8741 - val_loss: 0.5188 - val_acc: 0.8875\n",
            "Epoch 2/6\n",
            "4400/4400 [==============================] - 0s 97us/step - loss: 0.3609 - acc: 0.8809 - val_loss: 0.5573 - val_acc: 0.8875\n",
            "Epoch 3/6\n",
            "4400/4400 [==============================] - 0s 105us/step - loss: 0.3531 - acc: 0.8809 - val_loss: 0.5162 - val_acc: 0.8875\n",
            "Epoch 4/6\n",
            "4400/4400 [==============================] - 0s 97us/step - loss: 0.3262 - acc: 0.8809 - val_loss: 0.5498 - val_acc: 0.8875\n",
            "Epoch 5/6\n",
            "4400/4400 [==============================] - 0s 110us/step - loss: 0.2769 - acc: 0.8809 - val_loss: 0.3984 - val_acc: 0.8875\n",
            "Epoch 6/6\n",
            "4400/4400 [==============================] - 0s 98us/step - loss: 0.2207 - acc: 0.8945 - val_loss: 0.3574 - val_acc: 0.8583\n"
          ],
          "name": "stdout"
        },
        {
          "output_type": "execute_result",
          "data": {
            "text/plain": [
              "<keras.callbacks.History at 0x7f97c6610e80>"
            ]
          },
          "metadata": {
            "tags": []
          },
          "execution_count": 126
        }
      ]
    },
    {
      "cell_type": "code",
      "metadata": {
        "id": "_SjbOerQCnr0",
        "colab_type": "code",
        "colab": {
          "base_uri": "https://localhost:8080/",
          "height": 484
        },
        "outputId": "2038718b-eaab-4c6c-830f-cf709d3c2f0d"
      },
      "source": [
        "do_analysis(test_data, test_labels, cnn)"
      ],
      "execution_count": 128,
      "outputs": [
        {
          "output_type": "stream",
          "text": [
            "              precision    recall  f1-score   support\n",
            "\n",
            "           0       0.29      0.19      0.23        27\n",
            "           1       0.90      0.94      0.92       213\n",
            "\n",
            "    accuracy                           0.86       240\n",
            "   macro avg       0.60      0.56      0.57       240\n",
            "weighted avg       0.83      0.86      0.84       240\n",
            "\n",
            "[[0.18518519 0.81481481]\n",
            " [0.05633803 0.94366197]]\n"
          ],
          "name": "stdout"
        },
        {
          "output_type": "display_data",
          "data": {
            "image/png": "[encoded data removed]",
            "text/plain": [
              "<Figure size 432x288 with 2 Axes>"
            ]
          },
          "metadata": {
            "tags": []
          }
        }
      ]
    },
    {
      "cell_type": "code",
      "metadata": {
        "id": "OuuRoowJCoel",
        "colab_type": "code",
        "colab": {}
      },
      "source": [
        ""
      ],
      "execution_count": 0,
      "outputs": []
    }
  ]
}